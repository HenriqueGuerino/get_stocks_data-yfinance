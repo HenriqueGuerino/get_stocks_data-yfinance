{
 "cells": [
  {
   "cell_type": "code",
   "execution_count": 1,
   "id": "07707932-8713-4027-b601-b7558235252e",
   "metadata": {},
   "outputs": [],
   "source": [
    "import yfinance as yf\n",
    "import pandas as pd\n",
    "\n",
    "def get_stocks_info(stocks, date_start, date_end):\n",
    "    dfs, Open, High, Low, Close, Volume, Dividends, Stock_Splits = {}, {}, {}, {}, {}, {}, {}, {}\n",
    "    for stock in stocks:\n",
    "        s = yf.Ticker(stocks[stocks.index(stock)])\n",
    "        s.info\n",
    "        dfs[stock] = s.history(start=date_start, end=date_end)\n",
    "\n",
    "    for d in dfs:\n",
    "        for c in dfs[d].columns:\n",
    "            if c == 'Open':\n",
    "                Open[d] = dfs[d][c]\n",
    "            elif c == 'High':\n",
    "                High[d] = dfs[d][c]\n",
    "            elif c == 'Low':\n",
    "                Low[d] = dfs[d][c]\n",
    "            elif c == 'Close':\n",
    "                Close[d] = dfs[d][c]\n",
    "            elif c == 'Volume':\n",
    "                Volume[d] = dfs[d][c]\n",
    "            elif c == 'Dividends':\n",
    "                Dividends[d] = dfs[d][c]\n",
    "            elif c == 'Stock Splits':\n",
    "                Stock_Splits[d] = dfs[d][c]\n",
    "\n",
    "    dfs = {'Open': Open, 'High': High, 'Low': Low, 'Close': Close, 'Volume': Volume, 'Dividends': Dividends, 'Stock Splits': Stock_Splits}\n",
    "    dataframe = pd.concat({k: pd.DataFrame(v) for k,v in dfs.items()}, axis=1)\n",
    "\n",
    "    return dataframe"
   ]
  }
 ],
 "metadata": {
  "kernelspec": {
   "display_name": "Python 3 (ipykernel)",
   "language": "python",
   "name": "python3"
  },
  "language_info": {
   "codemirror_mode": {
    "name": "ipython",
    "version": 3
   },
   "file_extension": ".py",
   "mimetype": "text/x-python",
   "name": "python",
   "nbconvert_exporter": "python",
   "pygments_lexer": "ipython3",
   "version": "3.12.4"
  }
 },
 "nbformat": 4,
 "nbformat_minor": 5
}
